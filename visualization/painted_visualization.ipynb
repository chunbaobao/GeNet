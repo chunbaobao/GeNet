{
 "cells": [
  {
   "cell_type": "code",
   "execution_count": 1,
   "metadata": {},
   "outputs": [],
   "source": [
    "import numpy as np\n",
    "import os\n",
    "import sys\n",
    "import matplotlib.pyplot as plt\n",
    "os.chdir('../')\n",
    "sys.path.append('./')\n",
    "os.getcwd()\n",
    "from eval import PaintedDateSet\n",
    "from torchvision import transforms, datasets\n",
    "import torchvision.transforms.functional as TF"
   ]
  },
  {
   "cell_type": "code",
   "execution_count": 2,
   "metadata": {},
   "outputs": [],
   "source": [
    "def show_image(plt, img, title = None):\n",
    "    cmap = 'gray' if img.shape[2] == 1 else None\n",
    "    plt.imshow(img.permute(1,2,0), cmap=cmap)\n",
    "    plt.axis('off')\n",
    "    plt.title.set_text(title)\n",
    "\n",
    "def plot_painted_or_original(painted_dataset, original_dataset, num_samples_plot = 2):\n",
    "    for f_idx, idx in enumerate(np.random.choice(len(painted_dataset), num_samples_plot, replace=False)):\n",
    "        f = plt.figure(f_idx, figsize=(10, 5))\n",
    "        f1 = f.add_subplot(1, 2, 1)\n",
    "        show_image(f1, original_dataset[idx][0], title = 'original')\n",
    "        f2 = f.add_subplot(1, 2, 2)\n",
    "        show_image(f2, painted_dataset[idx][0], title = 'painted')\n",
    "        "
   ]
  },
  {
   "cell_type": "code",
   "execution_count": 3,
   "metadata": {},
   "outputs": [],
   "source": [
    "dataset_name = 'cifar10'\n",
    "rotation = 0\n",
    "painted_dataset = PaintedDateSet(dataset_name, rotation)\n",
    "transform = transforms.Compose([transforms.ToTensor(), transforms.Lambda(lambda x: TF.rotate(x, rotation))])\n",
    "original_dataset = datasets.CIFAR10(root='../dataset', train=False, download=False, transform=transform)\n",
    "plot_painted_or_original(painted_dataset, original_dataset, 2)"
   ]
  },
  {
   "cell_type": "code",
   "execution_count": null,
   "metadata": {},
   "outputs": [
    {
     "ename": "NameError",
     "evalue": "name 'PaintedDateSet' is not defined",
     "output_type": "error",
     "traceback": [
      "\u001b[0;31m---------------------------------------------------------------------------\u001b[0m",
      "\u001b[0;31mNameError\u001b[0m                                 Traceback (most recent call last)",
      "Cell \u001b[0;32mIn[1], line 3\u001b[0m\n\u001b[1;32m      1\u001b[0m dataset_name \u001b[38;5;241m=\u001b[39m \u001b[38;5;124m'\u001b[39m\u001b[38;5;124mmnist\u001b[39m\u001b[38;5;124m'\u001b[39m\n\u001b[1;32m      2\u001b[0m rotation \u001b[38;5;241m=\u001b[39m \u001b[38;5;241m0\u001b[39m\n\u001b[0;32m----> 3\u001b[0m painted_dataset \u001b[38;5;241m=\u001b[39m \u001b[43mPaintedDateSet\u001b[49m(dataset_name, rotation)\n\u001b[1;32m      4\u001b[0m transform \u001b[38;5;241m=\u001b[39m transforms\u001b[38;5;241m.\u001b[39mCompose([transforms\u001b[38;5;241m.\u001b[39mToTensor(), transforms\u001b[38;5;241m.\u001b[39mLambda(\u001b[38;5;28;01mlambda\u001b[39;00m x: TF\u001b[38;5;241m.\u001b[39mrotate(x, rotation))])\n\u001b[1;32m      5\u001b[0m original_dataset \u001b[38;5;241m=\u001b[39m datasets\u001b[38;5;241m.\u001b[39mMNIST(root\u001b[38;5;241m=\u001b[39m\u001b[38;5;124m'\u001b[39m\u001b[38;5;124m../dataset\u001b[39m\u001b[38;5;124m'\u001b[39m, train\u001b[38;5;241m=\u001b[39m\u001b[38;5;28;01mFalse\u001b[39;00m, download\u001b[38;5;241m=\u001b[39m\u001b[38;5;28;01mFalse\u001b[39;00m, transform\u001b[38;5;241m=\u001b[39mtransform)\n",
      "\u001b[0;31mNameError\u001b[0m: name 'PaintedDateSet' is not defined"
     ]
    }
   ],
   "source": [
    "dataset_name = 'mnist'\n",
    "rotation = 0\n",
    "painted_dataset = PaintedDateSet(dataset_name, rotation)\n",
    "transform = transforms.Compose([transforms.ToTensor(), transforms.Lambda(lambda x: TF.rotate(x, rotation))])\n",
    "original_dataset = datasets.MNIST(root='../dataset', train=False, download=False, transform=transform)\n",
    "plot_painted_or_original(painted_dataset, original_dataset, 2)"
   ]
  }
 ],
 "metadata": {
  "kernelspec": {
   "display_name": "gpu_torch",
   "language": "python",
   "name": "python3"
  },
  "language_info": {
   "codemirror_mode": {
    "name": "ipython",
    "version": 3
   },
   "file_extension": ".py",
   "mimetype": "text/x-python",
   "name": "python",
   "nbconvert_exporter": "python",
   "pygments_lexer": "ipython3",
   "version": "3.10.13"
  }
 },
 "nbformat": 4,
 "nbformat_minor": 2
}
