{
 "cells": [
  {
   "cell_type": "code",
   "execution_count": 1,
   "metadata": {},
   "outputs": [],
   "source": [
    "import numpy as np\n",
    "import os\n",
    "import sys\n",
    "import matplotlib.pyplot as plt\n",
    "os.chdir('../')\n",
    "sys.path.append('./')\n",
    "os.getcwd()\n",
    "from eval import PaintedDateSet\n",
    "from torchvision import transforms, datasets\n",
    "import torchvision.transforms.functional as TF"
   ]
  },
  {
   "cell_type": "code",
   "execution_count": 2,
   "metadata": {},
   "outputs": [],
   "source": [
    "dataset_name = 'mnist'\n",
    "# dataset_name = 'cifar10'\n",
    "rotation = 0\n",
    "transform = transforms.Compose([transforms.ToTensor(), transforms.Lambda(lambda x: TF.rotate(x, rotation))])\n",
    "if dataset_name == 'mnist':\n",
    "    original_dataset = datasets.MNIST(root='../dataset', train=False, download=False, transform=transform)\n",
    "elif dataset_name == 'cifar10':\n",
    "    original_dataset = datasets.CIFAR10(root='../dataset', train=False, download=False, transform=transform)\n",
    "else:\n",
    "    raise ValueError('Unknown dataset name')"
   ]
  },
  {
   "cell_type": "code",
   "execution_count": 3,
   "metadata": {},
   "outputs": [],
   "source": [
    "def show_image(plt, img, title = None):\n",
    "    cmap = 'gray' if img.shape[0] == 1 else None\n",
    "    plt.imshow(img.permute(1,2,0), cmap=cmap)\n",
    "    plt.axis('off')\n",
    "    plt.title.set_text(title)\n",
    "\n",
    "def plot_painted_or_original(painted_dataset, original_dataset, num_samples_plot = 2):\n",
    "    for f_idx, idx in enumerate(np.random.choice(len(painted_dataset), num_samples_plot, replace=False)):\n",
    "        f = plt.figure(f_idx, figsize=(10, 5))\n",
    "        f1 = f.add_subplot(1, 2, 1)\n",
    "        show_image(f1, original_dataset[idx][0], title = 'original')\n",
    "        f2 = f.add_subplot(1, 2, 2)\n",
    "        show_image(f2, painted_dataset[idx][0], title = 'painted')\n",
    "        if not os.path.exists('./demo/painted_visualization'):\n",
    "            os.makedirs('./demo/painted_visualization')\n",
    "        f.savefig('./demo/painted_visualization/'+ 'paint_' + dataset_name + '_' +str(idx) + '.pdf', pad_inches=0, bbox_inches='tight')\n",
    "        plt.show()\n",
    "        "
   ]
  },
  {
   "cell_type": "code",
   "execution_count": 5,
   "metadata": {},
   "outputs": [
    {
     "data": {
      "image/png": "[encoded data removed]",
      "text/plain": [
       "<Figure size 1000x500 with 2 Axes>"
      ]
     },
     "metadata": {},
     "output_type": "display_data"
    }
   ],
   "source": [
    "painted_dataset = PaintedDateSet(dataset_name, rotation)\n",
    "plot_painted_or_original(painted_dataset, original_dataset, 1)"
   ]
  }
 ],
 "metadata": {
  "kernelspec": {
   "display_name": "gpu_torch",
   "language": "python",
   "name": "python3"
  },
  "language_info": {
   "codemirror_mode": {
    "name": "ipython",
    "version": 3
   },
   "file_extension": ".py",
   "mimetype": "text/x-python",
   "name": "python",
   "nbconvert_exporter": "python",
   "pygments_lexer": "ipython3",
   "version": "3.10.13"
  }
 },
 "nbformat": 4,
 "nbformat_minor": 2
}
